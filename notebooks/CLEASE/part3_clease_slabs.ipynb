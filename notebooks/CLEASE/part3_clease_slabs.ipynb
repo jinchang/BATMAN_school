{
 "cells": [
  {
   "cell_type": "markdown",
   "metadata": {
    "ein.tags": "worksheet-0",
    "slideshow": {
     "slide_type": "-"
    }
   },
   "source": [
    "# Cluster Expansion on Pt$_3$Ni Surface Using CLEASE"
   ]
  },
  {
   "cell_type": "markdown",
   "metadata": {
    "ein.tags": "worksheet-0",
    "slideshow": {
     "slide_type": "-"
    }
   },
   "source": [
    "## Introduction\n",
    "\n",
    "This is the last short exercise of today to demonstrate how you can use CE for modeling the alloy surfaces. You will reproduce some of the results reported by Liang Cao and Tim Mueller for a Ni/Pt(111) surface.\n",
    "\n",
    "> Liang Cao and Tim Mueller (2015)<br>\n",
    "> [\"Rational Design of Pt3Ni Surface Structures for the Oxygen Reduction Reaction\"](https://doi.org/10.1021/acs.jpcc.5b04951)<br>\n",
    "> J. Phys. Chem. C 2015, 119, 31, 17735-17747.\n",
    "\n",
    "Among other interesting results, the authors reported the concentration of Pt for surface and sub-surface layers of Pt$_3$Ni alloy. They used 9 layer slab consisting of two surfaces as shown below, where the middle 3 layers represent bulk. \n",
    "\n",
    "<img src=\"slab_struct.png\" style=\"width: 300px;\"/>\n",
    "\n",
    "The authors performed Monte Carlo simulations based on the CE model to find the concentration of Pt on 5 surface layers at different temperatures, and reported the concentration distribution of each layer at 400 K as shown below. \n",
    "\n",
    "<img src=\"slab_ref.png\" style=\"width: 600px;\"/>\n",
    "\n",
    "We will take a similar approach in taking the 9 layer slab of Pt$_3$Ni. In the interest of time and computational resources, we will use the ``EMT`` calculator again, and we will not relax the structures for this exercise. The necessary helper functions to grab the ground-state structures and to plot the concentrations of Pt for each layer are also provided. We will not be running Monte Carlo simulations at finite temperatures and focus on getting the Pt concentration of each layer for the ground-state structure (i.e., the concentrations at 0 K) \n",
    "\n",
    "\n",
    "## Specify the concentration ranges of species\n",
    "\n",
    "\n",
    "The first step is to set the concentration of the alloy to Pt$_3$Ni. Vacancies are used to represent the vacuum region for constructing CE for slabs. Therefore, an extra basis consisting of vacancies (marked as 'X' in ASE) are introduced as a \"ghost\" basis.\n",
    "\n",
    "So in order to achieve a 3:1 Pt:Ni ratio, we will be limiting the concentration to always be $x=0.75$. In CLEASE, we can achieve that with the following piece of code:"
   ]
  },
  {
   "cell_type": "code",
   "execution_count": null,
   "metadata": {
    "autoscroll": false,
    "ein.hycell": false,
    "ein.tags": "worksheet-0",
    "slideshow": {
     "slide_type": "-"
    }
   },
   "outputs": [],
   "source": [
    "from clease.settings import Concentration\n",
    "\n",
    "conc = Concentration(basis_elements=[['Pt', 'Ni'],\n",
    "                                     ['X']  # This is a \"ghost\" sublattice for vacuum\n",
    "                                     ])\n",
    "conc.set_conc_formula_unit(formulas=['Pt<x>Ni<1-x>', 'X'], variable_range={'x': (0.75, 0.75)})\n",
    "print(\"Done\")"
   ]
  },
  {
   "cell_type": "markdown",
   "metadata": {
    "ein.tags": "worksheet-0",
    "slideshow": {
     "slide_type": "-"
    }
   },
   "source": [
    "We can insepct the corresponding equality and inequality constraints from the concentration class:"
   ]
  },
  {
   "cell_type": "code",
   "execution_count": null,
   "metadata": {
    "autoscroll": false,
    "ein.hycell": false,
    "ein.tags": "worksheet-0",
    "scrolled": true,
    "slideshow": {
     "slide_type": "-"
    }
   },
   "outputs": [],
   "source": [
    "print(\"A_eq = {}\\n\"\n",
    "      \"b_eq = {}\\n\"\n",
    "      \"A_lb = {}\\n\"\n",
    "      \"b_lb = {}\".format(conc.A_eq, conc.b_eq, conc.A_lb, conc.b_lb))"
   ]
  },
  {
   "cell_type": "markdown",
   "metadata": {},
   "source": [
    "Remember that we can write the equality constraint as $A_\\mathrm{lb} c_\\mathrm{species} \\geq b_\\mathrm{lb}$. Convince yourself that the above arrays satisfy the conditions we specified in the concentration class."
   ]
  },
  {
   "cell_type": "markdown",
   "metadata": {
    "ein.tags": "worksheet-0",
    "slideshow": {
     "slide_type": "-"
    }
   },
   "source": [
    "## Specify CE settings\n",
    "\n",
    "The next step is to specify the settings in which the CE model is constructed. In this case, we will be using a function called `CESlab` to create the cluster expansion model. It can (currently) accept a fixed set of surface cuts, but in this case we will use the `fcc111` cut, as that is what was used in the work by Cao and Mueller.\n",
    "\n",
    "We will also be using a 9 layer surface, and we will be adding some vacuum to simulate a slab. We will be limiting the size of our slab cells to $4\\times4\\times9$ supercells, as this allows us to achieve the exact 1:3 ratio between Ni and Pt.\n",
    "In the intrest of time, we will also be limiting the model to 2-body clusters only, as the model grows quite fast with the number of included clusters."
   ]
  },
  {
   "cell_type": "code",
   "execution_count": null,
   "metadata": {
    "autoscroll": false,
    "ein.hycell": false,
    "ein.tags": "worksheet-0",
    "slideshow": {
     "slide_type": "-"
    }
   },
   "outputs": [],
   "source": [
    "from clease.settings import CESlab\n",
    "\n",
    "db_name = 'clease.db'\n",
    "settings = CESlab(conc, 'fcc111', a=3.9,\n",
    "                  vacuum=20.0,\n",
    "                  size=[4, 4, 1],\n",
    "                  layers=9,\n",
    "                  max_cluster_size=2,\n",
    "                  max_cluster_dia=[6.0],\n",
    "                  db_name=db_name)\n",
    "# The following line is there for technical reasons, and we will not be discussing the implications of this here\n",
    "settings.include_background_atoms = True"
   ]
  },
  {
   "cell_type": "code",
   "execution_count": null,
   "metadata": {
    "autoscroll": false,
    "ein.hycell": false,
    "ein.tags": "worksheet-0",
    "slideshow": {
     "slide_type": "-"
    }
   },
   "outputs": [],
   "source": [
    "!ase db clease.db -c +name -L 0"
   ]
  },
  {
   "cell_type": "markdown",
   "metadata": {
    "ein.tags": "worksheet-0",
    "slideshow": {
     "slide_type": "-"
    }
   },
   "source": [
    "You can also view the clusters using the following command. "
   ]
  },
  {
   "cell_type": "code",
   "execution_count": null,
   "metadata": {
    "autoscroll": false,
    "ein.hycell": false,
    "ein.tags": "worksheet-0",
    "slideshow": {
     "slide_type": "-"
    }
   },
   "outputs": [],
   "source": [
    "# you can ignore the warning message if it appears \n",
    "settings.view_clusters()"
   ]
  },
  {
   "cell_type": "markdown",
   "metadata": {},
   "source": [
    "Finally, we can also visualize the primitive cell, from which any supercell structures will be constructed:"
   ]
  },
  {
   "cell_type": "code",
   "execution_count": null,
   "metadata": {},
   "outputs": [],
   "source": [
    "!ase gui clease.db@id=1"
   ]
  },
  {
   "cell_type": "markdown",
   "metadata": {},
   "source": [
    "Notice that the vacuum layer is represented by `X` atoms. These are placeholder atoms in ASE, which are simply used to indicate a \"vacuum\" lattice position. After all, CE is a lattice model, and thus anything we wish to model requires a lattice."
   ]
  },
  {
   "cell_type": "markdown",
   "metadata": {
    "ein.tags": "worksheet-0",
    "slideshow": {
     "slide_type": "-"
    }
   },
   "source": [
    "## Generating initial pool of training structures \n",
    "\n",
    "The next step is to generate initial structures to start training the CE model. New structures for training\n",
    "CE model are generated using `NewStructures` class, which contains several methods for generating structures. The initial pool of structures is generated using `generate_initial_pool()` method.\n",
    "\n",
    "**NOTE**: We are disabling checking of equivalent structures here. This is generally not advisable, but it is a rather expensive operation, especially on this type of primitive cell, so therefore we will disable this check here. This should _never_ be done in an actual research setting."
   ]
  },
  {
   "cell_type": "code",
   "execution_count": null,
   "metadata": {
    "autoscroll": false,
    "ein.hycell": false,
    "ein.tags": "worksheet-0",
    "slideshow": {
     "slide_type": "-"
    }
   },
   "outputs": [],
   "source": [
    "from clease.structgen import NewStructures\n",
    "\n",
    "ns = NewStructures(settings=settings,\n",
    "                   struct_per_gen=10,\n",
    "                   # Disables checking of pre-existing structures which are symmetrically equivalent\n",
    "                   check_exists_in_db=False)\n",
    "ns.generate_initial_pool()\n",
    "print(\"Done\")"
   ]
  },
  {
   "cell_type": "markdown",
   "metadata": {
    "ein.tags": "worksheet-0",
    "slideshow": {
     "slide_type": "-"
    }
   },
   "source": [
    "We should now have a set of structures with exactly a 3:1 ratio of Pt:Ni in our database in a 4x4x9 supercell."
   ]
  },
  {
   "cell_type": "code",
   "execution_count": null,
   "metadata": {
    "autoscroll": false,
    "ein.hycell": false,
    "ein.tags": "worksheet-0",
    "slideshow": {
     "slide_type": "-"
    }
   },
   "outputs": [],
   "source": [
    "!ase db clease.db -c +name -L 0"
   ]
  },
  {
   "cell_type": "markdown",
   "metadata": {
    "ein.tags": "worksheet-0",
    "slideshow": {
     "slide_type": "-"
    }
   },
   "source": [
    "The generated structures include key-value pairs specifying their features. The genereated keys are:\n",
    "\n",
    "| key            | description                                                                       |\n",
    "|----------------|-----------------------------------------------------------------------------------|\n",
    "|``gen``         |generation number                                                                  |\n",
    "|``struct_type`` |\"initial\" for input structures, \"final\" for converged structures after calculation |\n",
    "|``formula_unit``|reduced formula unit representation independent of the cell size                   |\n",
    "|``name``        |name of the structure (``formula_unit`` followed by a number)                      |\n",
    "|``converged``   |Boolean value indicating whether the calculation of the structure is converged     |\n",
    "|``queued``      |Boolean value indicating whether the calculation is queued in the workload manager |\n",
    "|``started``     |Boolean value indicating whether the calculation has started                       |\n",
    "\n",
    "The ``queued`` and ``started`` keys are useful for tracking the status of the calculations submitted using a workload manager, but they do not serve any purpose in this tutorial. \n",
    "\n",
    "You can see the keys of the new entries in the database file by modifying the ``ase db`` command above. \n",
    "\n",
    "For example, one can view generation number and structure type by appending ``gen`` and ``struct_type`` to the command.\n"
   ]
  },
  {
   "cell_type": "code",
   "execution_count": null,
   "metadata": {
    "autoscroll": false,
    "ein.hycell": false,
    "ein.tags": "worksheet-0",
    "slideshow": {
     "slide_type": "-"
    }
   },
   "outputs": [],
   "source": [
    "!ase db clease.db -c +name,gen,struct_type -L 0"
   ]
  },
  {
   "cell_type": "markdown",
   "metadata": {},
   "source": [
    "Furthermore, we can visualize the structures we created in a similar fashion, using the following command:"
   ]
  },
  {
   "cell_type": "code",
   "execution_count": null,
   "metadata": {},
   "outputs": [],
   "source": [
    "!ase gui clease.db@struct_type=initial"
   ]
  },
  {
   "cell_type": "markdown",
   "metadata": {
    "ein.tags": "worksheet-0",
    "slideshow": {
     "slide_type": "-"
    }
   },
   "source": [
    "## Running calculations on generated structures\n",
    "\n",
    "We use `EMT` calculator to demonstrate how one can run calculations on the structures generated using CLEASE and update database with the calculation results for further evaluation of the CE model. Here is a simple example script that runs the calculations for all structures that are not yet converged."
   ]
  },
  {
   "cell_type": "code",
   "execution_count": null,
   "metadata": {
    "autoscroll": false,
    "ein.hycell": false,
    "ein.tags": "worksheet-0",
    "slideshow": {
     "slide_type": "-"
    }
   },
   "outputs": [],
   "source": [
    "from ase.calculators.emt import EMT\n",
    "from ase.db import connect\n",
    "from ase.constraints import UnitCellFilter\n",
    "from ase.optimize import BFGS\n",
    "from clease.tools import update_db\n",
    "\n",
    "calc = EMT()\n",
    "db = connect(db_name)\n",
    "\n",
    "# Run calculations for all structures that are not converged.\n",
    "for row in db.select(converged=False):\n",
    "    print(f\"Calculating the structure in row ID = {row.id}.\")\n",
    "    atoms = row.toatoms()\n",
    "    # We have to remove the 'X' atoms, as EMT does not actually know what that is\n",
    "    idx = [a.index for a in atoms if a.symbol == 'X']\n",
    "    del atoms[idx]\n",
    "    atoms.calc = calc\n",
    "    atoms.get_potential_energy()\n",
    "    update_db(uid_initial=row.id, final_struct=atoms, db_name=db_name)\n",
    "print(\"Done.\")"
   ]
  },
  {
   "cell_type": "markdown",
   "metadata": {
    "ein.tags": "worksheet-0",
    "slideshow": {
     "slide_type": "-"
    }
   },
   "source": [
    "CLEASE has `update_db` function in ``clease.tools`` to update the database entry with the calculation results. It automatically updates the key-value pairs of the initial structure entry as following:\n",
    "\n",
    "| key               | description                                               |\n",
    "|-------------------|-----------------------------------------------------------|\n",
    "|``converged``      |True                                                       |\n",
    "|``started``        |*empty*                                                    |\n",
    "|``queued``         |*empty*                                                    |\n",
    "|``final_struct_id``|ID of the DB entry containing the final converged structure|\n",
    "\n",
    "The script also generates new entries containing calculation results (i.e., energy of the structures) with same ``name`` value as its original entry. You can check the entries in the database file to see the new entries containing the calculation results."
   ]
  },
  {
   "cell_type": "code",
   "execution_count": null,
   "metadata": {
    "autoscroll": false,
    "ein.hycell": false,
    "ein.tags": "worksheet-0",
    "slideshow": {
     "slide_type": "-"
    }
   },
   "outputs": [],
   "source": [
    "!ase db clease.db -c +gen,struct_type,final_struct_id -L 0"
   ]
  },
  {
   "cell_type": "markdown",
   "metadata": {
    "ein.tags": "worksheet-0",
    "slideshow": {
     "slide_type": "-"
    }
   },
   "source": [
    "## Evaluation of the CE model\n",
    "\n",
    "We are now ready to evaluate a CE model constructed from the initial 10 calculations. The evaluation of the CE model is performed using ``Evaluate`` class, and it supports 3 different linear regression schemes: Bayesian Compressive Sensing (BCS), $\\ell_1$ and $\\ell_2$ regularization. \n",
    "\n",
    "We will be trying out $\\ell_1$ and $\\ell_2$ regularization schemes to see how they perform using the script below. The script is written to use $\\ell_1$ regularization as a fitting scheme (i.e., fitting_scheme='l1'), and you can change the fitting scheme to $\\ell_2$ simply by changing it to 'l2'.  \n",
    "\n"
   ]
  },
  {
   "cell_type": "code",
   "execution_count": null,
   "metadata": {
    "autoscroll": false,
    "ein.hycell": false,
    "ein.tags": "worksheet-0",
    "scrolled": false,
    "slideshow": {
     "slide_type": "-"
    }
   },
   "outputs": [],
   "source": [
    "%matplotlib notebook\n",
    "from clease import Evaluate\n",
    "import clease.plot_post_process as pp\n",
    "\n",
    "eva = Evaluate(settings=settings, fitting_scheme='l1', scoring_scheme='k-fold', nsplits=10)\n",
    "\n",
    "# scan different values of alpha and return all values of alpha and its corresponding CV scores\n",
    "alphas, cvs = eva.alpha_CV(alpha_min=1E-7, alpha_max=1.0, num_alpha=50)\n",
    "pp.plot_cv(eva)\n",
    "\n",
    "# set the alpha value to the one that yields the lowest CV score, and fit data using it.\n",
    "idx = cvs.argmin()\n",
    "alpha = alphas[idx]\n",
    "eva.set_fitting_scheme(fitting_scheme='l1', alpha=alpha)\n",
    "eva.get_eci()\n",
    "pp.plot_fit(eva)\n",
    "\n",
    "# plot convex hull.\n",
    "pp.plot_convex_hull(eva)\n",
    "\n",
    "# plot ECI values, an emptry list is passed to ignore_sizes to plot all cluster sizes \n",
    "pp.plot_eci(eva)\n",
    "\n",
    "# print dictionary containing cluster names and their ECIs\n",
    "print(eva.get_eci_dict())\n",
    "\n",
    "# save a dictionary containing cluster names and their ECIs\n",
    "eva.save_eci(fname='cluster_name_eci_l1.json')"
   ]
  },
  {
   "cell_type": "markdown",
   "metadata": {},
   "source": [
    "Does the fit we generate with our best model look reasonable? Does it align with what one might expect from a model which was trained on 10 randomly generated structures?"
   ]
  },
  {
   "cell_type": "markdown",
   "metadata": {
    "ein.tags": "worksheet-0",
    "slideshow": {
     "slide_type": "-"
    }
   },
   "source": [
    "## Generation of probe structures for further training structures\n",
    "\n",
    "You have now seen the initial cross validation (CV) score using 10 initial training structures. We can further train the CE model using more training structures to make it more robust. \n",
    "\n",
    "CLEASE supports 3 ways to generate more strucures. The first (and most obvious) is generating random structures as you have already done. The second method is to generate so called \"probe structures\" which differ the most from the existing training structures in the database. The third method is to generate ground-state structures predicted based on current CE model.\n",
    "\n",
    "You can generate probe structures using the following script. Note that it internally uses simulated annealing algorithm which uses fictitious temperature values to maximize the difference in correlation function of the new structure. "
   ]
  },
  {
   "cell_type": "code",
   "execution_count": null,
   "metadata": {
    "autoscroll": false,
    "ein.hycell": false,
    "ein.tags": "worksheet-0",
    "slideshow": {
     "slide_type": "-"
    }
   },
   "outputs": [],
   "source": [
    "ns = NewStructures(settings=settings, struct_per_gen=5, check_exists_in_db=False)\n",
    "ns.generate_probe_structure()\n",
    "print(\"Done\")"
   ]
  },
  {
   "cell_type": "markdown",
   "metadata": {
    "ein.tags": "worksheet-0",
    "slideshow": {
     "slide_type": "-"
    }
   },
   "source": [
    "Once 10 additional structures are generated, you can re-run the script in \"Running calculations on generated structures\" section to calculate their energies. You should also run the script in \"Evaluation of the CE model\" section to evaluate the CV score of the model.\n",
    "\n",
    "It is likely that the CV score of the model is sufficiently low (few meV/atom or less) at this point. \n",
    "\n",
    "\n",
    "## Generate ground-state structures\n",
    "\n",
    "\n",
    "Ultimately, we are interested in the ground-state structures, or the structures with the lowest possible energy in our configurational space. In CLEASE, we achieve this using a simmulated annealing (SA) approach, which is what is done when we use the `generate_gs_structure` method.\n",
    "\n",
    "Running SA can be costly, so we'll only run one at a time. If you want to make more, you can simple run the cell below multiple times."
   ]
  },
  {
   "cell_type": "code",
   "execution_count": null,
   "metadata": {
    "autoscroll": false,
    "ein.hycell": false,
    "ein.tags": "worksheet-0",
    "slideshow": {
     "slide_type": "-"
    }
   },
   "outputs": [],
   "source": [
    "import json\n",
    "\n",
    "# get template with the cell size = 6x6x6\n",
    "template = db.get(\"name=primitive_cell\").toatoms()*(4, 4, 1)\n",
    "\n",
    "# import dictionary containing cluster names and their ECIs\n",
    "with open('cluster_name_eci_l1.json') as f:\n",
    "    eci = json.load(f)\n",
    "\n",
    "ns = NewStructures(settings=settings, struct_per_gen=3, check_exists_in_db=False)\n",
    "\n",
    "ns.generate_gs_structure(atoms=template, eci=eci,\n",
    "                         init_temp=2000, final_temp=1, \n",
    "                         num_temp=10, num_steps_per_temp=5000,\n",
    "                         random_composition=True)\n",
    "print(\"Done\")"
   ]
  },
  {
   "cell_type": "markdown",
   "metadata": {
    "ein.tags": "worksheet-0",
    "slideshow": {
     "slide_type": "-"
    }
   },
   "source": [
    "Again, you should re-run the scripts in \"Running calculations on generated structures\" and \"Evaluation of the CE model\" sections to see the convex-hull plot and the latest CV score of the model. If you observe that the CV score is high (more than ~5 meV/atom), you may want to repeat running the script for generating ground-state structures. \n",
    "\n",
    "If you want to generate ground-state structures at the three concentrations in which stable ordered phase exist (Au$_3$Cu, AuCu, AuCu$_3$), you can alternatively run the scripts below.\n",
    "\n",
    "## Analyzing the concentration per layer\n",
    "\n",
    "Recall that Cao and Mueller reported their Pt and Ni concentrations per layer, which is the result we were originally attempting to reproduce. Their results looked like this:\n",
    "\n",
    "<img src=\"slab_ref.png\" style=\"width: 600px;\"/>\n",
    "\n",
    "i.e. we see 100% Pt in the first layer, and then some Pt/Ni mixing in the subsequent layers.\n",
    "\n",
    "In the cell below, we provide some helper functions to create such a figure from our result. The figure will be generated from the atoms object we found which has the lowest energy per atom. Just simply run them to define the functions - but feel free to try and understand what is going on."
   ]
  },
  {
   "cell_type": "code",
   "execution_count": null,
   "metadata": {},
   "outputs": [],
   "source": [
    "import collections\n",
    "import matplotlib.pyplot as plt\n",
    "import numpy as np\n",
    "\n",
    "\n",
    "def find_layers(slab, tol=1e-3):\n",
    "    \"\"\"Identify each layer in a slab\"\"\"\n",
    "    layers = []  # z-position of a layer\n",
    "\n",
    "    for atom in slab:\n",
    "        if atom.symbol == 'X':\n",
    "            continue\n",
    "        z = atom.z\n",
    "        found = False\n",
    "        for layer in layers:\n",
    "            if abs(z - layer) < tol:\n",
    "                found = True\n",
    "                break\n",
    "        if found is False:\n",
    "            # We found a new layer\n",
    "            layers.append(z)\n",
    "\n",
    "    return sorted(layers)\n",
    "\n",
    "\n",
    "def get_conc_in_layers(slab, tol=1e-3):\n",
    "    \"\"\"Get the concentration within each layer\"\"\"\n",
    "    layers = find_layers(slab, tol=tol)\n",
    "    concs = []\n",
    "\n",
    "    for ii, layer in enumerate(layers):\n",
    "        # Find atoms in this layer\n",
    "        mask = abs(slab.positions[:, 2] - layer) < tol\n",
    "        atoms_layer = slab[mask]\n",
    "        counts = collections.Counter(atoms_layer.symbols)\n",
    "        tot = len(atoms_layer)\n",
    "        conc = {sym: c / tot for sym, c in counts.items()}\n",
    "        concs.append(conc)\n",
    "    return concs\n",
    "\n",
    "\n",
    "def plot_conc_in_layers(concs):\n",
    "    \"\"\" Plot the concentration in each layer.\n",
    "    Concs here is the output from get_conc_in_layers.\"\"\"\n",
    "\n",
    "    fig, ax = plt.subplots()\n",
    "\n",
    "    # Get all available symbols\n",
    "    all_syms = set()\n",
    "    for conc in concs:\n",
    "        for sym in conc.keys():\n",
    "            all_syms.add(sym)\n",
    "\n",
    "    n_layers = len(concs)\n",
    "    base_heights = np.zeros(n_layers)\n",
    "    for sym in sorted(all_syms, reverse=True):\n",
    "        # Generate the height for each layer\n",
    "        heights = np.array([conc.get(sym, 0) for conc in concs])\n",
    "        labels = [f'{i+1}' for i in range(len(concs))]\n",
    "        ax.bar(labels, heights, label=sym, bottom=base_heights)\n",
    "        # Stack the bars on top of eachother\n",
    "        base_heights += heights\n",
    "\n",
    "    ax.set_ylabel('Fraction [at%]')\n",
    "    ax.set_xlabel('Layer #')\n",
    "    ax.legend(loc='best')\n",
    "\n",
    "    return fig\n",
    "\n",
    "def get_emin_struct(db_name):\n",
    "    \"\"\"Get the row with the lowest energy per atom in the database\"\"\"\n",
    "    con = connect(db_name)\n",
    "\n",
    "    emin_row = None\n",
    "    emin = np.infty\n",
    "    # Notice we did not optimize the initials, so we can just access the finals directly, and compare those\n",
    "    rows = con.select(struct_type='final')\n",
    "    # Go through the finals, and find emin\n",
    "    for row in rows:\n",
    "        en = row.energy / row.natoms\n",
    "        if en < emin:\n",
    "            # Set the newest emin row\n",
    "            emin_row, emin = row, en\n",
    "    return emin_row"
   ]
  },
  {
   "cell_type": "markdown",
   "metadata": {},
   "source": [
    "We can use our helper functions on our newly generated data as follows:"
   ]
  },
  {
   "cell_type": "code",
   "execution_count": null,
   "metadata": {},
   "outputs": [],
   "source": [
    "emin_row = get_emin_struct('clease.db')\n",
    "print('Emin_row id:', emin_row.id)\n",
    "atoms = emin_row.toatoms()\n",
    "\n",
    "concs = get_conc_in_layers(atoms)\n",
    "print(concs)\n",
    "fig = plot_conc_in_layers(concs)\n"
   ]
  },
  {
   "cell_type": "markdown",
   "metadata": {},
   "source": [
    "How well did we reproduce the results from Cao and Mueller? Try and see if you can improve upon the fit by adding more data, and improving the CE model!"
   ]
  }
 ],
 "metadata": {
  "kernelspec": {
   "display_name": "Python 3",
   "language": "python",
   "name": "python3"
  },
  "language_info": {
   "codemirror_mode": {
    "name": "ipython",
    "version": 3
   },
   "file_extension": ".py",
   "mimetype": "text/x-python",
   "name": "python",
   "nbconvert_exporter": "python",
   "pygments_lexer": "ipython3",
   "version": "3.8.5"
  },
  "name": "cluster_expansion_tutorial.master.ipynb"
 },
 "nbformat": 4,
 "nbformat_minor": 2
}
