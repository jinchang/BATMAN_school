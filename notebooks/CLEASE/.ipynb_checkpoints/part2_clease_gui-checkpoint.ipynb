{
 "cells": [
  {
   "cell_type": "markdown",
   "id": "boring-finance",
   "metadata": {},
   "source": [
    "# The CLEASE Graphical User Interface (GUI)\n",
    "\n",
    "The below cell imports the function which constructs the CLEASE GUI within a jupyter notebook. Execute the cell to see the GUI, and try to reconstruct the exercises from part 1 within the GUI."
   ]
  },
  {
   "cell_type": "code",
   "execution_count": null,
   "id": "exceptional-arthur",
   "metadata": {
    "scrolled": false
   },
   "outputs": [],
   "source": [
    "%matplotlib inline\n",
    "from clease_gui import display_ui\n",
    "display_ui()"
   ]
  },
  {
   "cell_type": "code",
   "execution_count": null,
   "id": "d6d767e7",
   "metadata": {},
   "outputs": [],
   "source": []
  }
 ],
 "metadata": {
  "kernelspec": {
   "display_name": "Python 3 (ipykernel)",
   "language": "python",
   "name": "python3"
  },
  "language_info": {
   "codemirror_mode": {
    "name": "ipython",
    "version": 3
   },
   "file_extension": ".py",
   "mimetype": "text/x-python",
   "name": "python",
   "nbconvert_exporter": "python",
   "pygments_lexer": "ipython3",
   "version": "3.10.6"
  }
 },
 "nbformat": 4,
 "nbformat_minor": 5
}
